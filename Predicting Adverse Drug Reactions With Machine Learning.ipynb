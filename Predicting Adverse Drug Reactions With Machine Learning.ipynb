{
 "cells": [
  {
   "cell_type": "markdown",
   "metadata": {},
   "source": [
    "<h1>Predicting Adverse Drug Reactions With Machine Learning</h1>\n",
    "\n",
    "<h2>1. Introduction</h2>\n",
    "<p>The objective of this work is to develop machine learning (ML) methods that can accurately predict adverse drug reactions (ADRs) using databases like SIDER and OFFSIDES.</p> \n",
    "<h2>2. Methods</h2>\n",
    "<h3>2.1 Methods</h3>\n",
    "<p>One of the most important factors when using ML methods are the datasets used to train, validate and test the model. In this work, 3 different ones will be used at different stages, shown in table 1.</p> "
   ]
  },
  {
   "cell_type": "markdown",
   "metadata": {},
   "source": [
    "<style type=\"text/css\">\n",
    ".tg  {border-collapse:collapse;border-spacing:0;}\n",
    ".tg td{font-family:Arial, sans-serif;font-size:14px;padding:10px 5px;border-style:solid;border-width:1px;overflow:hidden;word-break:normal;border-color:black;}\n",
    ".tg th{font-family:Arial, sans-serif;font-size:14px;font-weight:normal;padding:10px 5px;border-style:solid;border-width:1px;overflow:hidden;word-break:normal;border-color:black;}\n",
    ".tg .tg-0lax{text-align:left;vertical-align:top}\n",
    "</style>\n",
    "<table class=\"tg\">\n",
    "  <tr>\n",
    "    <th class=\"tg-0lax\"><span style=\"font-weight:bold\">Dataset</span></th>\n",
    "    <th class=\"tg-0lax\"><span style=\"font-weight:bold\">Description</span></th>\n",
    "  </tr>\n",
    "  <tr>\n",
    "    <td class=\"tg-0lax\">SIDER 4</td>\n",
    "    <td class=\"tg-0lax\">1427 Approved drugs with ADRs text-mined from drug package inserts grouped into 27 system organ classes following <br>MedDRA classification</td>\n",
    "  </tr>\n",
    "  <tr>\n",
    "    <td class=\"tg-0lax\">OFFSIDES</td>\n",
    "    <td class=\"tg-0lax\">Database of off-label side effects</td>\n",
    "  </tr>\n",
    "</table>"
   ]
  },
  {
   "cell_type": "markdown",
   "metadata": {},
   "source": [
    "<h3>2.2 Features</h3>\n",
    "<p>Features are the set of attributes associated with the example that try to represent the dataset.</p> \n",
    "<p>SMILES strings are commonly used to represent molecules, as is used in SIDER, and they will be the basis of this work. But, even though they are a unique representation of molecules, they are not enough to use as a feature in ML. Because of this, they will be used as a way to generate other features like fingerprints and molecular descriptors using tools like RDKit in Python.</p> \n",
    "\n",
    "<h3>2.3 Machine Learning Methods</h3>\n",
    "<p>A number of different supervised learning methods will be tested during this work, mainly using <b>scikit-learn.</b></p> \n",
    "<p>Supervised learning is the most common ML scenario in chemoinformatics, and can be subdivided into classification and regression problems. In this type of learning, the training data has the outcome variable to guide the learning process. The objective of this type of learning is to predict the value of an outcome or to classify it. Some of the tested models will be:</p> \n",
    "<h4>2.3.1 Support Vector Machine (SVM)</h4>\n",
    "<p>One of the most popular ML methods. It maps the data into a high-dimensional space, using a non-linear kernel function, in order to optimally separate the classes. This separation is done by maximizing the margin between the closest points of the classes, support vectors, to the decision boundary, a hyperplane.</p>\n",
    "<h4>2.3.2 Random Forest (RF)</h4>\n",
    "<p>Tries to give a classification based on an ensemble of decision trees built based on the training data. It is an ensemble of tree predictors where each tree is independently constructed by using bootstrap samples of the training data and random feature selection.</p>\n",
    "<h4>2.3.3 Gradient Boosting (GB)</h4>\n",
    "<p>Similar to RF, as it is also an ensemble prediction method but the trees are not independent. This comes from the fact that, in GB, at each iteration, the respective tree is constructed by fitting a simple function to current residuals.</p>"
   ]
  }
 ],
 "metadata": {
  "kernelspec": {
   "display_name": "Python 3",
   "language": "python",
   "name": "python3"
  },
  "language_info": {
   "codemirror_mode": {
    "name": "ipython",
    "version": 3
   },
   "file_extension": ".py",
   "mimetype": "text/x-python",
   "name": "python",
   "nbconvert_exporter": "python",
   "pygments_lexer": "ipython3",
   "version": "3.6.8"
  }
 },
 "nbformat": 4,
 "nbformat_minor": 2
}
